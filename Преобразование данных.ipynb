{
 "cells": [
  {
   "cell_type": "markdown",
   "id": "2f2ee801",
   "metadata": {},
   "source": [
    "# Перед первым использованием установите библиотеки"
   ]
  },
  {
   "cell_type": "code",
   "execution_count": 79,
   "id": "cd25a551",
   "metadata": {},
   "outputs": [],
   "source": [
    "# !pip install pandas\n",
    "# !pip install numpy\n",
    "# !pip install pytest-warnings\n",
    "# !pip install contextlib2\n",
    "# !pip install psycopg2\n",
    "# !pip install SQLAlchemy"
   ]
  },
  {
   "cell_type": "markdown",
   "id": "18449749",
   "metadata": {},
   "source": [
    "## Навигация\n",
    "- **[Перечень всех кодов и названий продуктов](#Перечень-всех-кодов-и-названий-продуктов)**\n",
    "- **[Преобразование параметра qty датафрейма](#Преобразование-параметра-qty-датафрейма)**"
   ]
  },
  {
   "cell_type": "code",
   "execution_count": 1,
   "id": "9810c75e",
   "metadata": {},
   "outputs": [],
   "source": [
    "import pandas as pd\n",
    "import numpy as np\n",
    "import os\n",
    "\n",
    "import warnings\n",
    "warnings.simplefilter('ignore') \n",
    "\n",
    "# Для автоматического закрытия курсора\n",
    "from contextlib import closing\n",
    "import psycopg2\n",
    "from psycopg2 import Error\n",
    "from sqlalchemy import create_engine\n",
    "\n",
    "import json\n",
    "from datetime import datetime\n",
    "import time\n",
    "\n",
    "\n",
    "# Сброс ограничений на число столбцов\n",
    "pd.set_option('display.max_columns', None)"
   ]
  },
  {
   "cell_type": "code",
   "execution_count": 16,
   "id": "0ea50c8f",
   "metadata": {},
   "outputs": [],
   "source": [
    "# Считываем конфиг названия таблиц и базы данных\n",
    "with open('config_js.json', 'r') as fl:\n",
    "    name_table_or_bd = json.load(fl)"
   ]
  },
  {
   "cell_type": "code",
   "execution_count": 2,
   "id": "58da6127",
   "metadata": {},
   "outputs": [],
   "source": [
    "# Инициализация подключений для работы с БД\n",
    "engine = psycopg2.connect(user=os.getenv('USER'),\n",
    "                          # пароль, который указали при установке PostgreSQL\n",
    "                          password=os.getenv('PASSWORD'),\n",
    "                          host=os.getenv('HOST'),\n",
    "                          port=os.getenv('PORT'),\n",
    "                          database=os.getenv('DATABASE'))\n",
    "conn = create_engine('postgresql://{}:{}@{}:{}/{}'\n",
    "                     .format(os.getenv('USER'), os.getenv('PASSWORD'), os.getenv('HOST'), os.getenv('PORT'), os.getenv('DATABASE')))\n"
   ]
  },
  {
   "cell_type": "code",
   "execution_count": 3,
   "id": "2d02a1b7",
   "metadata": {},
   "outputs": [],
   "source": [
    "# Считываем датафреймы\n",
    "df_import = pd.read_csv('india_import.csv')\n",
    "df_export = pd.read_csv('india_export.csv')"
   ]
  },
  {
   "cell_type": "code",
   "execution_count": 4,
   "id": "2b89926f",
   "metadata": {},
   "outputs": [],
   "source": [
    "# Объединяем импорт и экспорт\n",
    "df_full_flow = pd.concat((df_import, df_export))"
   ]
  },
  {
   "cell_type": "code",
   "execution_count": 5,
   "id": "5c494da8",
   "metadata": {},
   "outputs": [],
   "source": [
    "# Очищаем от пробелов\n",
    "df_full_flow['Unit'] = df_full_flow['Unit'].apply(lambda x: x.strip())"
   ]
  },
  {
   "cell_type": "code",
   "execution_count": 6,
   "id": "b79ab535",
   "metadata": {
    "scrolled": true
   },
   "outputs": [
    {
     "data": {
      "text/html": [
       "<div>\n",
       "<style scoped>\n",
       "    .dataframe tbody tr th:only-of-type {\n",
       "        vertical-align: middle;\n",
       "    }\n",
       "\n",
       "    .dataframe tbody tr th {\n",
       "        vertical-align: top;\n",
       "    }\n",
       "\n",
       "    .dataframe thead th {\n",
       "        text-align: right;\n",
       "    }\n",
       "</style>\n",
       "<table border=\"1\" class=\"dataframe\">\n",
       "  <thead>\n",
       "    <tr style=\"text-align: right;\">\n",
       "      <th></th>\n",
       "      <th>commodity_code</th>\n",
       "      <th>Commodity</th>\n",
       "      <th>year</th>\n",
       "      <th>trade_value</th>\n",
       "      <th>classification</th>\n",
       "      <th>period</th>\n",
       "      <th>reporter_code</th>\n",
       "      <th>name_country_source</th>\n",
       "      <th>aggregate_level</th>\n",
       "      <th>trade_flow_code</th>\n",
       "      <th>customs_proc_code</th>\n",
       "      <th>flag</th>\n",
       "      <th>plus</th>\n",
       "      <th>load_mark</th>\n",
       "      <th>update_date</th>\n",
       "      <th>Unit</th>\n",
       "      <th>qty</th>\n",
       "      <th>bool_border</th>\n",
       "      <th>seven</th>\n",
       "    </tr>\n",
       "  </thead>\n",
       "  <tbody>\n",
       "  </tbody>\n",
       "</table>\n",
       "</div>"
      ],
      "text/plain": [
       "Empty DataFrame\n",
       "Columns: [commodity_code, Commodity, year, trade_value, classification, period, reporter_code, name_country_source, aggregate_level, trade_flow_code, customs_proc_code, flag, plus, load_mark, update_date, Unit, qty, bool_border, seven]\n",
       "Index: []"
      ]
     },
     "execution_count": 6,
     "metadata": {},
     "output_type": "execute_result"
    }
   ],
   "source": [
    "# Проверяем нет ли 7-ми значных кодов\n",
    "df_full_flow['commodity_code'] = df_full_flow['commodity_code'].apply(lambda x: '0' + str(x) if len(str(x)) < 8 else str(x))\n",
    "\n",
    "df_full_flow['seven'] = df_full_flow.commodity_code.apply(lambda x: 7 if len(str(x)) < 8 else 8)\n",
    "\n",
    "df_full_flow.query('seven == 7')"
   ]
  },
  {
   "cell_type": "code",
   "execution_count": 7,
   "id": "6840610f",
   "metadata": {},
   "outputs": [
    {
     "data": {
      "text/plain": [
       "46960000.0"
      ]
     },
     "execution_count": 7,
     "metadata": {},
     "output_type": "execute_result"
    }
   ],
   "source": [
    "df_full_flow.query('name_country_source == \"AFGHANISTAN\" and period == \"2023-03-01\" and trade_flow_code == 1').trade_value.sum()"
   ]
  },
  {
   "cell_type": "markdown",
   "id": "627d7185",
   "metadata": {},
   "source": [
    "# Перечень всех кодов и названий продуктов"
   ]
  },
  {
   "cell_type": "markdown",
   "id": "8520748b",
   "metadata": {},
   "source": [
    "*Выполнить если он необходим. Для корректной сборки он не нужен.*"
   ]
  },
  {
   "cell_type": "code",
   "execution_count": 20,
   "id": "13e64f3e",
   "metadata": {},
   "outputs": [
    {
     "data": {
      "text/plain": [
       "11553"
      ]
     },
     "execution_count": 20,
     "metadata": {},
     "output_type": "execute_result"
    }
   ],
   "source": [
    "# Уникальное кол-во кодов продуктов\n",
    "df_full_flow.commodity_code.nunique()"
   ]
  },
  {
   "cell_type": "code",
   "execution_count": 21,
   "id": "ee8b15fa",
   "metadata": {
    "scrolled": true
   },
   "outputs": [
    {
     "data": {
      "text/plain": [
       "10194"
      ]
     },
     "execution_count": 21,
     "metadata": {},
     "output_type": "execute_result"
    }
   ],
   "source": [
    "# Уникальное количество названий продуктов\n",
    "df_full_flow.Commodity.nunique()"
   ]
  },
  {
   "cell_type": "code",
   "execution_count": 22,
   "id": "d39dcf0a",
   "metadata": {},
   "outputs": [],
   "source": [
    "# Создаем датафрейм с уникальными названиями\n",
    "df_corrected_by_сommodity = df_full_flow.groupby(['commodity_code', 'Commodity'], as_index=False).agg(n_customers=('year', 'count'))[['commodity_code', 'Commodity']]"
   ]
  },
  {
   "cell_type": "code",
   "execution_count": 23,
   "id": "1aadbedf",
   "metadata": {},
   "outputs": [
    {
     "data": {
      "text/plain": [
       "(11553, 2)"
      ]
     },
     "execution_count": 23,
     "metadata": {},
     "output_type": "execute_result"
    }
   ],
   "source": [
    "# Валидируем его с родительским фреймом\n",
    "df_corrected_by_сommodity.shape"
   ]
  },
  {
   "cell_type": "code",
   "execution_count": 24,
   "id": "00595abb",
   "metadata": {},
   "outputs": [
    {
     "data": {
      "text/html": [
       "<div>\n",
       "<style scoped>\n",
       "    .dataframe tbody tr th:only-of-type {\n",
       "        vertical-align: middle;\n",
       "    }\n",
       "\n",
       "    .dataframe tbody tr th {\n",
       "        vertical-align: top;\n",
       "    }\n",
       "\n",
       "    .dataframe thead th {\n",
       "        text-align: right;\n",
       "    }\n",
       "</style>\n",
       "<table border=\"1\" class=\"dataframe\">\n",
       "  <thead>\n",
       "    <tr style=\"text-align: right;\">\n",
       "      <th></th>\n",
       "      <th>commodity_code</th>\n",
       "      <th>Commodity</th>\n",
       "    </tr>\n",
       "  </thead>\n",
       "  <tbody>\n",
       "    <tr>\n",
       "      <th>0</th>\n",
       "      <td>01012100</td>\n",
       "      <td>PURE-BRED BREEDING HORSES</td>\n",
       "    </tr>\n",
       "    <tr>\n",
       "      <th>1</th>\n",
       "      <td>01012910</td>\n",
       "      <td>HORSES FOR POLO</td>\n",
       "    </tr>\n",
       "  </tbody>\n",
       "</table>\n",
       "</div>"
      ],
      "text/plain": [
       "  commodity_code                  Commodity\n",
       "0       01012100  PURE-BRED BREEDING HORSES\n",
       "1       01012910            HORSES FOR POLO"
      ]
     },
     "execution_count": 24,
     "metadata": {},
     "output_type": "execute_result"
    }
   ],
   "source": [
    "df_corrected_by_сommodity.head(2)"
   ]
  },
  {
   "cell_type": "code",
   "execution_count": 25,
   "id": "89dda950",
   "metadata": {},
   "outputs": [],
   "source": [
    "# Записываем в файл\n",
    "df_corrected_by_сommodity.to_excel('коды_и_названия.xlsx', index=False)"
   ]
  },
  {
   "cell_type": "markdown",
   "id": "48b2a650",
   "metadata": {},
   "source": [
    "### [⬅ Навигация](#Навигация)"
   ]
  },
  {
   "cell_type": "markdown",
   "id": "22298d6c",
   "metadata": {},
   "source": [
    "# Преобразование параметра qty датафрейма"
   ]
  },
  {
   "cell_type": "code",
   "execution_count": 8,
   "id": "c6d3597e",
   "metadata": {},
   "outputs": [],
   "source": [
    "# Справочник из БД с единицами измерения\n",
    "query_deizm = f\"\"\"\n",
    "        SELECT * FROM {name_table_or_bd[\"name_schema_reference\"]}.{name_table_or_bd[\"name_table_reference\"]}\n",
    "        ORDER BY id ASC \n",
    "\"\"\"\n",
    "\n",
    "df_deizm = pd.read_sql(query_deizm, con=engine)\n",
    "df_deizm.rename(columns={'code': 'qty_unit_code','name_rus': 'Unit'}, inplace=True)\n",
    "df_deizm = df_deizm[['qty_unit_code', 'Unit']]"
   ]
  },
  {
   "cell_type": "code",
   "execution_count": 19,
   "id": "8437d1ce",
   "metadata": {},
   "outputs": [
    {
     "data": {
      "text/html": [
       "<div>\n",
       "<style scoped>\n",
       "    .dataframe tbody tr th:only-of-type {\n",
       "        vertical-align: middle;\n",
       "    }\n",
       "\n",
       "    .dataframe tbody tr th {\n",
       "        vertical-align: top;\n",
       "    }\n",
       "\n",
       "    .dataframe thead th {\n",
       "        text-align: right;\n",
       "    }\n",
       "</style>\n",
       "<table border=\"1\" class=\"dataframe\">\n",
       "  <thead>\n",
       "    <tr style=\"text-align: right;\">\n",
       "      <th></th>\n",
       "      <th>code</th>\n",
       "      <th>name_eng</th>\n",
       "      <th>name_country_source</th>\n",
       "    </tr>\n",
       "  </thead>\n",
       "  <tbody>\n",
       "    <tr>\n",
       "      <th>0</th>\n",
       "      <td>897</td>\n",
       "      <td>Other 00</td>\n",
       "      <td>CANARY IS</td>\n",
       "    </tr>\n",
       "    <tr>\n",
       "      <th>1</th>\n",
       "      <td>132</td>\n",
       "      <td>Cabo Verde</td>\n",
       "      <td>CAPE VERDE IS</td>\n",
       "    </tr>\n",
       "    <tr>\n",
       "      <th>2</th>\n",
       "      <td>831</td>\n",
       "      <td>Bailiwick of Guernsey</td>\n",
       "      <td>GUERNSEY</td>\n",
       "    </tr>\n",
       "    <tr>\n",
       "      <th>3</th>\n",
       "      <td>832</td>\n",
       "      <td>Bailiwick of Jersey</td>\n",
       "      <td>JERSEY</td>\n",
       "    </tr>\n",
       "    <tr>\n",
       "      <th>4</th>\n",
       "      <td>849</td>\n",
       "      <td>US Miscellaneous Pacific Islands</td>\n",
       "      <td>PACIFIC IS</td>\n",
       "    </tr>\n",
       "    <tr>\n",
       "      <th>...</th>\n",
       "      <td>...</td>\n",
       "      <td>...</td>\n",
       "      <td>...</td>\n",
       "    </tr>\n",
       "    <tr>\n",
       "      <th>243</th>\n",
       "      <td>704</td>\n",
       "      <td>Viet Nam</td>\n",
       "      <td>VIETNAM SOC REP</td>\n",
       "    </tr>\n",
       "    <tr>\n",
       "      <th>244</th>\n",
       "      <td>850</td>\n",
       "      <td>US Virgin Islands</td>\n",
       "      <td>VIRGIN IS US</td>\n",
       "    </tr>\n",
       "    <tr>\n",
       "      <th>245</th>\n",
       "      <td>876</td>\n",
       "      <td>Wallis and Futuna Islands</td>\n",
       "      <td>WALLIS F IS</td>\n",
       "    </tr>\n",
       "    <tr>\n",
       "      <th>246</th>\n",
       "      <td>887</td>\n",
       "      <td>Yemen</td>\n",
       "      <td>YEMEN REPUBLC</td>\n",
       "    </tr>\n",
       "    <tr>\n",
       "      <th>247</th>\n",
       "      <td>591</td>\n",
       "      <td>Panama</td>\n",
       "      <td>PANAMA REPUBLIC</td>\n",
       "    </tr>\n",
       "  </tbody>\n",
       "</table>\n",
       "<p>248 rows × 3 columns</p>\n",
       "</div>"
      ],
      "text/plain": [
       "     code                          name_eng name_country_source\n",
       "0     897                          Other 00           CANARY IS\n",
       "1     132                        Cabo Verde       CAPE VERDE IS\n",
       "2     831             Bailiwick of Guernsey            GUERNSEY\n",
       "3     832               Bailiwick of Jersey              JERSEY\n",
       "4     849  US Miscellaneous Pacific Islands          PACIFIC IS\n",
       "..    ...                               ...                 ...\n",
       "243   704                          Viet Nam     VIETNAM SOC REP\n",
       "244   850                 US Virgin Islands        VIRGIN IS US\n",
       "245   876         Wallis and Futuna Islands         WALLIS F IS\n",
       "246   887                             Yemen       YEMEN REPUBLC\n",
       "247   591                            Panama     PANAMA REPUBLIC\n",
       "\n",
       "[248 rows x 3 columns]"
      ]
     },
     "execution_count": 19,
     "metadata": {},
     "output_type": "execute_result"
    }
   ],
   "source": [
    "# Словаврь для партнера\n",
    "query_country_add = f\"\"\"\n",
    "\n",
    "SELECT code, name_eng, name_country_source FROM {name_table_or_bd[\"name_schema_dl\"]}.{name_table_or_bd[\"name_table_dl\"]} \n",
    "WHERE source_id = 4\n",
    "\n",
    "\"\"\"\n",
    "df_country_add = pd.read_sql(query_country_add, con=engine)\n",
    "\n",
    "df_country_add"
   ]
  },
  {
   "cell_type": "code",
   "execution_count": 10,
   "id": "fd8edb0c",
   "metadata": {},
   "outputs": [],
   "source": [
    "dict_deizm = {}\n",
    "# Заполняем словарь для перехода от ед. изм. itc к общепринятым\n",
    "dict_deizm['NOS'] = 'штука'\n",
    "dict_deizm['KGS'] = 'килограмм'\n",
    "dict_deizm['SQM'] = 'квадратный метр'\n",
    "dict_deizm['PRS'] = 'пара'\n",
    "dict_deizm['LTR'] = 'литр'\n",
    "dict_deizm['CTM'] = 'карат'\n",
    "dict_deizm['CBM'] = 'кубический метр'\n",
    "dict_deizm['kg'] = 'килограмм'\n",
    "dict_deizm['MTR'] = 'метр'\n",
    "dict_deizm['C/K'] = 'карат'\n",
    "dict_deizm['KG'] = 'килограмм'\n",
    "dict_deizm['UNT'] = 'штука'\n",
    "dict_deizm['TKW'] = '1000 кВаттЧас'\n",
    "dict_deizm['GIF'] = 'без размерности'\n",
    "dict_deizm['THD'] = '1000 штук'\n",
    "dict_deizm['TON'] = 'килограмм' #1000 * 1000 kg\n",
    "dict_deizm['MTS'] = 'килограмм' #1000000 * 1000  kg\n",
    "dict_deizm['0'] = 'без размерности'\n",
    "dict_deizm['CRT'] = 'карат'\n",
    "dict_deizm['\\\"'] = 'без размерности'"
   ]
  },
  {
   "cell_type": "code",
   "execution_count": 11,
   "id": "2291a6d2",
   "metadata": {},
   "outputs": [],
   "source": [
    "# Функция для приведения единиц измерения к единообразию\n",
    "def fix_d_izm(unit, d_izm):\n",
    "    if unit == 'MTS':\n",
    "        return d_izm * 1000000000\n",
    "    elif unit == 'TON':\n",
    "        return d_izm * 1000000\n",
    "    else:\n",
    "        return d_izm * 1000"
   ]
  },
  {
   "cell_type": "code",
   "execution_count": 12,
   "id": "526a0b7f",
   "metadata": {},
   "outputs": [],
   "source": [
    "# df_full_flow.query(\"Unit == '\\\"'\").to_excel('новые названия.xlsx', index=False)"
   ]
  },
  {
   "cell_type": "code",
   "execution_count": 13,
   "id": "39eb546c",
   "metadata": {
    "scrolled": true
   },
   "outputs": [],
   "source": [
    "df_full_flow['qty'] = df_full_flow.apply(lambda x: fix_d_izm(x.Unit, x.qty), axis=1)"
   ]
  },
  {
   "cell_type": "code",
   "execution_count": 14,
   "id": "f1308588",
   "metadata": {},
   "outputs": [],
   "source": [
    "df_full_flow['Unit'] = df_full_flow['Unit'].apply(lambda x: dict_deizm[x])"
   ]
  },
  {
   "cell_type": "code",
   "execution_count": 15,
   "id": "1b1dd3ce",
   "metadata": {
    "scrolled": true
   },
   "outputs": [
    {
     "data": {
      "text/html": [
       "<div>\n",
       "<style scoped>\n",
       "    .dataframe tbody tr th:only-of-type {\n",
       "        vertical-align: middle;\n",
       "    }\n",
       "\n",
       "    .dataframe tbody tr th {\n",
       "        vertical-align: top;\n",
       "    }\n",
       "\n",
       "    .dataframe thead th {\n",
       "        text-align: right;\n",
       "    }\n",
       "</style>\n",
       "<table border=\"1\" class=\"dataframe\">\n",
       "  <thead>\n",
       "    <tr style=\"text-align: right;\">\n",
       "      <th></th>\n",
       "      <th>commodity_code</th>\n",
       "      <th>Commodity</th>\n",
       "      <th>year</th>\n",
       "      <th>trade_value</th>\n",
       "      <th>classification</th>\n",
       "      <th>period</th>\n",
       "      <th>reporter_code</th>\n",
       "      <th>name_country_source</th>\n",
       "      <th>aggregate_level</th>\n",
       "      <th>trade_flow_code</th>\n",
       "      <th>customs_proc_code</th>\n",
       "      <th>flag</th>\n",
       "      <th>plus</th>\n",
       "      <th>load_mark</th>\n",
       "      <th>update_date</th>\n",
       "      <th>Unit</th>\n",
       "      <th>qty</th>\n",
       "      <th>bool_border</th>\n",
       "      <th>seven</th>\n",
       "    </tr>\n",
       "  </thead>\n",
       "  <tbody>\n",
       "    <tr>\n",
       "      <th>0</th>\n",
       "      <td>07133190</td>\n",
       "      <td>BEANS OF THE SPP VIGNA RADIATA (L.) WILCZEK</td>\n",
       "      <td>2022</td>\n",
       "      <td>80000.0</td>\n",
       "      <td>HS</td>\n",
       "      <td>2022-05-01</td>\n",
       "      <td>699</td>\n",
       "      <td>AFGHANISTAN</td>\n",
       "      <td>8</td>\n",
       "      <td>1</td>\n",
       "      <td>C00</td>\n",
       "      <td>0</td>\n",
       "      <td>0</td>\n",
       "      <td>1</td>\n",
       "      <td>2023-07-11</td>\n",
       "      <td>килограмм</td>\n",
       "      <td>76000.0</td>\n",
       "      <td>not_none</td>\n",
       "      <td>8</td>\n",
       "    </tr>\n",
       "    <tr>\n",
       "      <th>1</th>\n",
       "      <td>07133990</td>\n",
       "      <td>OTHER DRIED LEGUMINUS VEGETABLES</td>\n",
       "      <td>2022</td>\n",
       "      <td>240000.0</td>\n",
       "      <td>HS</td>\n",
       "      <td>2022-05-01</td>\n",
       "      <td>699</td>\n",
       "      <td>AFGHANISTAN</td>\n",
       "      <td>8</td>\n",
       "      <td>1</td>\n",
       "      <td>C00</td>\n",
       "      <td>0</td>\n",
       "      <td>0</td>\n",
       "      <td>1</td>\n",
       "      <td>2023-07-11</td>\n",
       "      <td>килограмм</td>\n",
       "      <td>225000.0</td>\n",
       "      <td>not_none</td>\n",
       "      <td>8</td>\n",
       "    </tr>\n",
       "    <tr>\n",
       "      <th>2</th>\n",
       "      <td>08021100</td>\n",
       "      <td>ALMONDS FRSH OR DRIEDIN SHELL</td>\n",
       "      <td>2022</td>\n",
       "      <td>250000.0</td>\n",
       "      <td>HS</td>\n",
       "      <td>2022-05-01</td>\n",
       "      <td>699</td>\n",
       "      <td>AFGHANISTAN</td>\n",
       "      <td>8</td>\n",
       "      <td>1</td>\n",
       "      <td>C00</td>\n",
       "      <td>0</td>\n",
       "      <td>0</td>\n",
       "      <td>1</td>\n",
       "      <td>2023-07-11</td>\n",
       "      <td>килограмм</td>\n",
       "      <td>162450.0</td>\n",
       "      <td>not_none</td>\n",
       "      <td>8</td>\n",
       "    </tr>\n",
       "  </tbody>\n",
       "</table>\n",
       "</div>"
      ],
      "text/plain": [
       "  commodity_code                                    Commodity  year  \\\n",
       "0       07133190  BEANS OF THE SPP VIGNA RADIATA (L.) WILCZEK  2022   \n",
       "1       07133990             OTHER DRIED LEGUMINUS VEGETABLES  2022   \n",
       "2       08021100                ALMONDS FRSH OR DRIEDIN SHELL  2022   \n",
       "\n",
       "   trade_value classification      period  reporter_code name_country_source  \\\n",
       "0      80000.0             HS  2022-05-01            699         AFGHANISTAN   \n",
       "1     240000.0             HS  2022-05-01            699         AFGHANISTAN   \n",
       "2     250000.0             HS  2022-05-01            699         AFGHANISTAN   \n",
       "\n",
       "   aggregate_level  trade_flow_code customs_proc_code  flag  plus  load_mark  \\\n",
       "0                8                1               C00     0     0          1   \n",
       "1                8                1               C00     0     0          1   \n",
       "2                8                1               C00     0     0          1   \n",
       "\n",
       "  update_date       Unit       qty bool_border  seven  \n",
       "0  2023-07-11  килограмм   76000.0    not_none      8  \n",
       "1  2023-07-11  килограмм  225000.0    not_none      8  \n",
       "2  2023-07-11  килограмм  162450.0    not_none      8  "
      ]
     },
     "execution_count": 15,
     "metadata": {},
     "output_type": "execute_result"
    }
   ],
   "source": [
    "df_full_flow.head(3)"
   ]
  },
  {
   "cell_type": "code",
   "execution_count": 16,
   "id": "7a869f65",
   "metadata": {},
   "outputs": [],
   "source": [
    "# Корректируем значения для netweight\n",
    "netweight_clear = []\n",
    "for net_clear, unit in zip(list(df_full_flow.qty), list(df_full_flow.Unit)):\n",
    "    if unit == 'килограмм':\n",
    "        netweight_clear.append(net_clear)\n",
    "    else:\n",
    "        netweight_clear.append(0)\n",
    "        \n",
    "df_full_flow['netweight'] = netweight_clear"
   ]
  },
  {
   "cell_type": "code",
   "execution_count": 17,
   "id": "24f2fc62",
   "metadata": {},
   "outputs": [],
   "source": [
    "# Корреткируем значения для qty\n",
    "netweight_fat = []\n",
    "for net_fat, unit in zip(list(df_full_flow.qty), list(df_full_flow.Unit)):\n",
    "    if unit != 'килограмм':\n",
    "        netweight_fat.append(net_fat)\n",
    "        \n",
    "    else:\n",
    "        netweight_fat.append(0)\n",
    "        \n",
    "df_full_flow['qty'] = netweight_fat"
   ]
  },
  {
   "cell_type": "code",
   "execution_count": 18,
   "id": "f76fee88",
   "metadata": {},
   "outputs": [],
   "source": [
    "df_full_flow['region_code'] = 'NNNNN'"
   ]
  },
  {
   "cell_type": "code",
   "execution_count": 19,
   "id": "2116e0df",
   "metadata": {},
   "outputs": [],
   "source": [
    "df_full_flow = df_full_flow.merge(df_deizm, on='Unit', how='left')"
   ]
  },
  {
   "cell_type": "code",
   "execution_count": 20,
   "id": "3aa453e7",
   "metadata": {},
   "outputs": [],
   "source": [
    "df_full_flow = df_full_flow.merge(df_country_add, on='name_country_source', how='left')"
   ]
  },
  {
   "cell_type": "code",
   "execution_count": 21,
   "id": "71409f73",
   "metadata": {},
   "outputs": [
    {
     "data": {
      "text/plain": [
       "commodity_code         0\n",
       "Commodity              0\n",
       "year                   0\n",
       "trade_value            0\n",
       "classification         0\n",
       "period                 0\n",
       "reporter_code          0\n",
       "name_country_source    0\n",
       "aggregate_level        0\n",
       "trade_flow_code        0\n",
       "customs_proc_code      0\n",
       "flag                   0\n",
       "plus                   0\n",
       "load_mark              0\n",
       "update_date            0\n",
       "Unit                   0\n",
       "qty                    0\n",
       "bool_border            0\n",
       "seven                  0\n",
       "netweight              0\n",
       "region_code            0\n",
       "qty_unit_code          0\n",
       "code                   0\n",
       "name_eng               0\n",
       "dtype: int64"
      ]
     },
     "execution_count": 21,
     "metadata": {},
     "output_type": "execute_result"
    }
   ],
   "source": [
    "df_full_flow.isna().sum()"
   ]
  },
  {
   "cell_type": "code",
   "execution_count": 22,
   "id": "acb07b8e",
   "metadata": {},
   "outputs": [],
   "source": [
    "df_full_flow.rename(columns={'code': 'partner_code'}, inplace=True)                       "
   ]
  },
  {
   "cell_type": "code",
   "execution_count": 23,
   "id": "70216353",
   "metadata": {},
   "outputs": [],
   "source": [
    "df_full_flow = df_full_flow[['classification', 'year', 'period', 'aggregate_level', 'trade_flow_code', 'region_code', 'reporter_code', \n",
    "                       'partner_code', 'customs_proc_code', 'commodity_code', 'qty_unit_code', 'qty', 'netweight', \n",
    "                       'trade_value', 'flag', 'plus', 'load_mark', 'update_date']]"
   ]
  },
  {
   "cell_type": "code",
   "execution_count": 24,
   "id": "9dacfd4c",
   "metadata": {},
   "outputs": [
    {
     "data": {
      "text/html": [
       "<div>\n",
       "<style scoped>\n",
       "    .dataframe tbody tr th:only-of-type {\n",
       "        vertical-align: middle;\n",
       "    }\n",
       "\n",
       "    .dataframe tbody tr th {\n",
       "        vertical-align: top;\n",
       "    }\n",
       "\n",
       "    .dataframe thead th {\n",
       "        text-align: right;\n",
       "    }\n",
       "</style>\n",
       "<table border=\"1\" class=\"dataframe\">\n",
       "  <thead>\n",
       "    <tr style=\"text-align: right;\">\n",
       "      <th></th>\n",
       "      <th>classification</th>\n",
       "      <th>year</th>\n",
       "      <th>period</th>\n",
       "      <th>aggregate_level</th>\n",
       "      <th>trade_flow_code</th>\n",
       "      <th>region_code</th>\n",
       "      <th>reporter_code</th>\n",
       "      <th>partner_code</th>\n",
       "      <th>customs_proc_code</th>\n",
       "      <th>commodity_code</th>\n",
       "      <th>qty_unit_code</th>\n",
       "      <th>qty</th>\n",
       "      <th>netweight</th>\n",
       "      <th>trade_value</th>\n",
       "      <th>flag</th>\n",
       "      <th>plus</th>\n",
       "      <th>load_mark</th>\n",
       "      <th>update_date</th>\n",
       "    </tr>\n",
       "  </thead>\n",
       "  <tbody>\n",
       "    <tr>\n",
       "      <th>0</th>\n",
       "      <td>HS</td>\n",
       "      <td>2022</td>\n",
       "      <td>2022-05-01</td>\n",
       "      <td>8</td>\n",
       "      <td>1</td>\n",
       "      <td>NNNNN</td>\n",
       "      <td>699</td>\n",
       "      <td>4</td>\n",
       "      <td>C00</td>\n",
       "      <td>07133190</td>\n",
       "      <td>8</td>\n",
       "      <td>0.0</td>\n",
       "      <td>76000.0</td>\n",
       "      <td>80000.0</td>\n",
       "      <td>0</td>\n",
       "      <td>0</td>\n",
       "      <td>1</td>\n",
       "      <td>2023-07-11</td>\n",
       "    </tr>\n",
       "  </tbody>\n",
       "</table>\n",
       "</div>"
      ],
      "text/plain": [
       "  classification  year      period  aggregate_level  trade_flow_code  \\\n",
       "0             HS  2022  2022-05-01                8                1   \n",
       "\n",
       "  region_code  reporter_code  partner_code customs_proc_code commodity_code  \\\n",
       "0       NNNNN            699             4               C00       07133190   \n",
       "\n",
       "   qty_unit_code  qty  netweight  trade_value  flag  plus  load_mark  \\\n",
       "0              8  0.0    76000.0      80000.0     0     0          1   \n",
       "\n",
       "  update_date  \n",
       "0  2023-07-11  "
      ]
     },
     "execution_count": 24,
     "metadata": {},
     "output_type": "execute_result"
    }
   ],
   "source": [
    "df_full_flow.head(1)"
   ]
  },
  {
   "cell_type": "code",
   "execution_count": 25,
   "id": "a1fa02cd",
   "metadata": {
    "scrolled": true
   },
   "outputs": [
    {
     "data": {
      "text/plain": [
       "(3170660, 18)"
      ]
     },
     "execution_count": 25,
     "metadata": {},
     "output_type": "execute_result"
    }
   ],
   "source": [
    "df_full_flow.shape"
   ]
  },
  {
   "cell_type": "code",
   "execution_count": 27,
   "id": "1fba7f10",
   "metadata": {},
   "outputs": [
    {
     "data": {
      "text/plain": [
       "1629304810000.0"
      ]
     },
     "execution_count": 27,
     "metadata": {},
     "output_type": "execute_result"
    }
   ],
   "source": [
    "df_full_flow.trade_value.sum()"
   ]
  },
  {
   "cell_type": "code",
   "execution_count": 28,
   "id": "140457e0",
   "metadata": {},
   "outputs": [],
   "source": [
    "# Очищаем данные из БД\n",
    "with engine.cursor() as cur:\n",
    "    cur.execute(f'DELETE FROM {name_table_or_bd[\"name_schema_main\"]}.{name_table_or_bd[\"name_table_main\"]} WHERE reporter_code = 699')\n",
    "    engine.commit()"
   ]
  },
  {
   "cell_type": "code",
   "execution_count": 12,
   "id": "f68382a1",
   "metadata": {},
   "outputs": [],
   "source": [
    "df_count_value = pd.read_sql(f'SELECT COUNT(*) AS count_value FROM {name_table_or_bd[\"name_schema_main\"]}.{name_table_or_bd[\"name_table_main\"]} WHERE reporter_code = 699', \n",
    "                             con=engine)\n",
    "сheck_zero = df_count_value.count_value[0]"
   ]
  },
  {
   "cell_type": "code",
   "execution_count": 30,
   "id": "83a04a75",
   "metadata": {},
   "outputs": [
    {
     "name": "stdout",
     "output_type": "stream",
     "text": [
      "записей в таблице: 0, начинаем загрузку\n"
     ]
    }
   ],
   "source": [
    "if сheck_zero == 0:\n",
    "    print(f'записей в таблице: {сheck_zero}, начинаем загрузку')\n",
    "    df_full_flow.to_sql(name_table_or_bd[\"name_table_main\"], con=conn, schema={name_table_or_bd[\"name_schema_main\"], \n",
    "                                                                          if_exists='append', index=False)\n",
    "else:\n",
    "    print(f'записей в таблице: {сheck_zero}, произведите удаление лишних элементов')"
   ]
  },
  {
   "cell_type": "markdown",
   "id": "29669753",
   "metadata": {},
   "source": [
    "### [⬅ Навигация](#Навигация)"
   ]
  }
 ],
 "metadata": {
  "kernelspec": {
   "display_name": "Python 3 (ipykernel)",
   "language": "python",
   "name": "python3"
  },
  "language_info": {
   "codemirror_mode": {
    "name": "ipython",
    "version": 3
   },
   "file_extension": ".py",
   "mimetype": "text/x-python",
   "name": "python",
   "nbconvert_exporter": "python",
   "pygments_lexer": "ipython3",
   "version": "3.9.12"
  }
 },
 "nbformat": 4,
 "nbformat_minor": 5
}
